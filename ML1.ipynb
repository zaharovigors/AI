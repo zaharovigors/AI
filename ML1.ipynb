{
  "nbformat": 4,
  "nbformat_minor": 0,
  "metadata": {
    "colab": {
      "name": "ML1.ipynb",
      "provenance": [],
      "toc_visible": true
    },
    "kernelspec": {
      "name": "python3",
      "display_name": "Python 3"
    }
  },
  "cells": [
    {
      "cell_type": "markdown",
      "metadata": {
        "id": "v6Xae7QKsMwl",
        "colab_type": "text"
      },
      "source": [
        "# Лабораторная работа №1 по курсу \"Машинное обучение\"\n",
        "\n",
        "Выполнила работу: Захаров И.С. \\\n",
        "Группа: М8О-308Б-17\n",
        "\n"
      ]
    },
    {
      "cell_type": "markdown",
      "metadata": {
        "id": "5yG81k8btCiM",
        "colab_type": "text"
      },
      "source": [
        "## Условие\n"
      ]
    },
    {
      "cell_type": "markdown",
      "metadata": {
        "id": "YiSjy9CqtKqf",
        "colab_type": "text"
      },
      "source": [
        "1. Cформировать два набора данных для приложений машинного обучения. \n",
        "  * Первый датасет должен представлять из себя табличный набор данных для задачи классификации. \n",
        "  * Второй датасет должен быть отличен от первого, и может представлять из себя набор изображений, корпус документов, другой табличный датасет или датасет из соревнования Kaggle, предназначенный для решения интересующей вас задачи машинного обучения. \n",
        "2. Провести анализ обоих наборов данных;\n",
        "3. Поставить решаемую вами задачу;\n",
        "4. Определить признаки необходимые для решения задачи, в случае необходимости заняться генерацией новых признаков, устранением проблем в данных;\n",
        "5. Визуализировать распределение и зависимость целевого признака от выбранных признаков. \n",
        "\n",
        "В отчете описать все проблемы, с которыми вы столкнулись, и выбранные подходы к их решению."
      ]
    },
    {
      "cell_type": "markdown",
      "metadata": {
        "id": "CSt-Q7p--l37",
        "colab_type": "text"
      },
      "source": [
        "## Первый датасет\n"
      ]
    },
    {
      "cell_type": "markdown",
      "metadata": {
        "id": "F1EHwlpwB5yH",
        "colab_type": "text"
      },
      "source": [
        "### Постановка задачи"
      ]
    },
    {
      "cell_type": "markdown",
      "metadata": {
        "id": "2nulcbtDteDz",
        "colab_type": "text"
      },
      "source": [
        "Анализ зависимостей видов стекла от наличия тех или иных примесей\n"
      ]
    },
    {
      "cell_type": "markdown",
      "metadata": {
        "id": "IiknROJiHHj6",
        "colab_type": "text"
      },
      "source": [
        "### Загрузка данных"
      ]
    },
    {
      "cell_type": "code",
      "metadata": {
        "id": "uJRPUIaWsLfN",
        "colab_type": "code",
        "colab": {
          "base_uri": "https://localhost:8080/",
          "height": 71
        },
        "outputId": "af23182b-40dd-48c8-e6fd-30bdf032bc39"
      },
      "source": [
        "import numpy as np\n",
        "import pandas as pd\n",
        "import matplotlib.pyplot as plt\n",
        "import seaborn as sns\n",
        "sns.set()\n",
        "import os"
      ],
      "execution_count": 2,
      "outputs": [
        {
          "output_type": "stream",
          "text": [
            "/usr/local/lib/python3.6/dist-packages/statsmodels/tools/_testing.py:19: FutureWarning: pandas.util.testing is deprecated. Use the functions in the public API at pandas.testing instead.\n",
            "  import pandas.util.testing as tm\n"
          ],
          "name": "stderr"
        }
      ]
    },
    {
      "cell_type": "code",
      "metadata": {
        "id": "ASVM3MpKHTFK",
        "colab_type": "code",
        "colab": {
          "base_uri": "https://localhost:8080/",
          "height": 359
        },
        "outputId": "e98722d8-b4a4-4854-c88d-c482bc142517"
      },
      "source": [
        "dataset = pd.read_csv('datasets_738_1370_glass.csv')\n",
        "dataset.head().T"
      ],
      "execution_count": 11,
      "outputs": [
        {
          "output_type": "execute_result",
          "data": {
            "text/html": [
              "<div>\n",
              "<style scoped>\n",
              "    .dataframe tbody tr th:only-of-type {\n",
              "        vertical-align: middle;\n",
              "    }\n",
              "\n",
              "    .dataframe tbody tr th {\n",
              "        vertical-align: top;\n",
              "    }\n",
              "\n",
              "    .dataframe thead th {\n",
              "        text-align: right;\n",
              "    }\n",
              "</style>\n",
              "<table border=\"1\" class=\"dataframe\">\n",
              "  <thead>\n",
              "    <tr style=\"text-align: right;\">\n",
              "      <th></th>\n",
              "      <th>0</th>\n",
              "      <th>1</th>\n",
              "      <th>2</th>\n",
              "      <th>3</th>\n",
              "      <th>4</th>\n",
              "    </tr>\n",
              "  </thead>\n",
              "  <tbody>\n",
              "    <tr>\n",
              "      <th>RI</th>\n",
              "      <td>1.52101</td>\n",
              "      <td>1.51761</td>\n",
              "      <td>1.51618</td>\n",
              "      <td>1.51766</td>\n",
              "      <td>1.51742</td>\n",
              "    </tr>\n",
              "    <tr>\n",
              "      <th>Na</th>\n",
              "      <td>13.64000</td>\n",
              "      <td>13.89000</td>\n",
              "      <td>13.53000</td>\n",
              "      <td>13.21000</td>\n",
              "      <td>13.27000</td>\n",
              "    </tr>\n",
              "    <tr>\n",
              "      <th>Mg</th>\n",
              "      <td>4.49000</td>\n",
              "      <td>3.60000</td>\n",
              "      <td>3.55000</td>\n",
              "      <td>3.69000</td>\n",
              "      <td>3.62000</td>\n",
              "    </tr>\n",
              "    <tr>\n",
              "      <th>Al</th>\n",
              "      <td>1.10000</td>\n",
              "      <td>1.36000</td>\n",
              "      <td>1.54000</td>\n",
              "      <td>1.29000</td>\n",
              "      <td>1.24000</td>\n",
              "    </tr>\n",
              "    <tr>\n",
              "      <th>Si</th>\n",
              "      <td>71.78000</td>\n",
              "      <td>72.73000</td>\n",
              "      <td>72.99000</td>\n",
              "      <td>72.61000</td>\n",
              "      <td>73.08000</td>\n",
              "    </tr>\n",
              "    <tr>\n",
              "      <th>K</th>\n",
              "      <td>0.06000</td>\n",
              "      <td>0.48000</td>\n",
              "      <td>0.39000</td>\n",
              "      <td>0.57000</td>\n",
              "      <td>0.55000</td>\n",
              "    </tr>\n",
              "    <tr>\n",
              "      <th>Ca</th>\n",
              "      <td>8.75000</td>\n",
              "      <td>7.83000</td>\n",
              "      <td>7.78000</td>\n",
              "      <td>8.22000</td>\n",
              "      <td>8.07000</td>\n",
              "    </tr>\n",
              "    <tr>\n",
              "      <th>Ba</th>\n",
              "      <td>0.00000</td>\n",
              "      <td>0.00000</td>\n",
              "      <td>0.00000</td>\n",
              "      <td>0.00000</td>\n",
              "      <td>0.00000</td>\n",
              "    </tr>\n",
              "    <tr>\n",
              "      <th>Fe</th>\n",
              "      <td>0.00000</td>\n",
              "      <td>0.00000</td>\n",
              "      <td>0.00000</td>\n",
              "      <td>0.00000</td>\n",
              "      <td>0.00000</td>\n",
              "    </tr>\n",
              "    <tr>\n",
              "      <th>Type</th>\n",
              "      <td>1.00000</td>\n",
              "      <td>1.00000</td>\n",
              "      <td>1.00000</td>\n",
              "      <td>1.00000</td>\n",
              "      <td>1.00000</td>\n",
              "    </tr>\n",
              "  </tbody>\n",
              "</table>\n",
              "</div>"
            ],
            "text/plain": [
              "             0         1         2         3         4\n",
              "RI     1.52101   1.51761   1.51618   1.51766   1.51742\n",
              "Na    13.64000  13.89000  13.53000  13.21000  13.27000\n",
              "Mg     4.49000   3.60000   3.55000   3.69000   3.62000\n",
              "Al     1.10000   1.36000   1.54000   1.29000   1.24000\n",
              "Si    71.78000  72.73000  72.99000  72.61000  73.08000\n",
              "K      0.06000   0.48000   0.39000   0.57000   0.55000\n",
              "Ca     8.75000   7.83000   7.78000   8.22000   8.07000\n",
              "Ba     0.00000   0.00000   0.00000   0.00000   0.00000\n",
              "Fe     0.00000   0.00000   0.00000   0.00000   0.00000\n",
              "Type   1.00000   1.00000   1.00000   1.00000   1.00000"
            ]
          },
          "metadata": {
            "tags": []
          },
          "execution_count": 11
        }
      ]
    },
    {
      "cell_type": "markdown",
      "metadata": {
        "id": "mtYhORAlwnMe",
        "colab_type": "text"
      },
      "source": [
        "### Визуализация, подготовка и анализ данных"
      ]
    },
    {
      "cell_type": "markdown",
      "metadata": {
        "id": "l5-ogFu3wvZ5",
        "colab_type": "text"
      },
      "source": [
        "Сначала можно посмотреть сколько плиток соответствует определенной экспертной оценке\n",
        "\n"
      ]
    },
    {
      "cell_type": "code",
      "metadata": {
        "id": "WI5m1bYvwr4d",
        "colab_type": "code",
        "colab": {
          "base_uri": "https://localhost:8080/",
          "height": 489
        },
        "outputId": "fb9395ab-35ab-4b7d-a1b6-0186a871e479"
      },
      "source": [
        "corr = dataset.corr()\n",
        "#Plot figsize\n",
        "fig, ax = plt.subplots(figsize=(10, 8))\n",
        "#Generate Heat Map, allow annotations and place floats in map\n",
        "sns.heatmap(corr, cmap='coolwarm', annot=True, fmt=\".2f\")\n",
        "#Apply xticks\n",
        "plt.xticks(range(len(corr.columns)), corr.columns);\n",
        "#Apply yticks\n",
        "plt.yticks(range(len(corr.columns)), corr.columns)\n",
        "#show plot\n",
        "plt.show()"
      ],
      "execution_count": 12,
      "outputs": [
        {
          "output_type": "display_data",
          "data": {
            "image/png": "[encoded data removed]",
            "text/plain": [
              "<Figure size 720x576 with 2 Axes>"
            ]
          },
          "metadata": {
            "tags": []
          }
        }
      ]
    },
    {
      "cell_type": "code",
      "metadata": {
        "id": "F6OgNc7yi73n",
        "colab_type": "code",
        "colab": {}
      },
      "source": [
        "X = dataset.drop('Type', axis = 1).values\n",
        "y = dataset['Type'].values.reshape(-1,1)"
      ],
      "execution_count": 13,
      "outputs": []
    },
    {
      "cell_type": "code",
      "metadata": {
        "id": "A8ONb-FzmD5U",
        "colab_type": "code",
        "colab": {}
      },
      "source": [
        "from sklearn.model_selection import train_test_split\n",
        "X_train, X_test, y_train, y_test = train_test_split(X, y, test_size = 0.25, random_state = 42)"
      ],
      "execution_count": 14,
      "outputs": []
    },
    {
      "cell_type": "code",
      "metadata": {
        "id": "d2wM4CcnmGh9",
        "colab_type": "code",
        "colab": {
          "base_uri": "https://localhost:8080/",
          "height": 85
        },
        "outputId": "576a945b-c217-4041-f241-2b1bfeab0b72"
      },
      "source": [
        "print(\"Shape of X_train: \",X_train.shape)\n",
        "print(\"Shape of X_test: \", X_test.shape)\n",
        "print(\"Shape of y_train: \",y_train.shape)\n",
        "print(\"Shape of y_test\",y_test.shape)"
      ],
      "execution_count": 15,
      "outputs": [
        {
          "output_type": "stream",
          "text": [
            "Shape of X_train:  (160, 9)\n",
            "Shape of X_test:  (54, 9)\n",
            "Shape of y_train:  (160, 1)\n",
            "Shape of y_test (54, 1)\n"
          ],
          "name": "stdout"
        }
      ]
    },
    {
      "cell_type": "markdown",
      "metadata": {
        "id": "Zq9fyR6TOwmZ",
        "colab_type": "text"
      },
      "source": [
        "## Второй датасет"
      ]
    },
    {
      "cell_type": "markdown",
      "metadata": {
        "id": "YUm9NLcaO7MW",
        "colab_type": "text"
      },
      "source": [
        "### Описание"
      ]
    },
    {
      "cell_type": "markdown",
      "metadata": {
        "id": "rOU8XnT3v1Uk",
        "colab_type": "text"
      },
      "source": [
        "Наблюдения: 942 000 Переменных: 13 Крипто-Токенов: 2,071\n",
        "Все исторические значения открытия, максимума, минимума, закрытия для всех криптовалют.\n",
        "\n",
        "Исправлен дубликат символа обмена монетами путем введения монетного слизняка\n",
        "Данные актуальны по состоянию на 21 мая 2018 года\n",
        "Добавлены две новые переменные: close_ratio и spread\n",
        "Коэффициент закрытия - это дневная скорость закрытия, минимальная-максимальная с максимальными и минимальными значениями за день.\n",
        "Близкое Соотношение = (Закрытие-Минимум)/(Максимум-Минимум)\n",
        "Спред - это разница в долларах США между максимумом и минимумом за день.\n",
        "\n"
      ]
    },
    {
      "cell_type": "markdown",
      "metadata": {
        "id": "leGpaUMVTNa0",
        "colab_type": "text"
      },
      "source": [
        "### Загрузка данных"
      ]
    },
    {
      "cell_type": "code",
      "metadata": {
        "id": "6u2wAaQ4U02h",
        "colab_type": "code",
        "colab": {
          "base_uri": "https://localhost:8080/",
          "height": 452
        },
        "outputId": "fd01a195-ee39-40a8-f461-980f8aa35bbf"
      },
      "source": [
        "df = pd.read_csv('crypto-markets.csv')\n",
        "df.head().T"
      ],
      "execution_count": 4,
      "outputs": [
        {
          "output_type": "execute_result",
          "data": {
            "text/html": [
              "<div>\n",
              "<style scoped>\n",
              "    .dataframe tbody tr th:only-of-type {\n",
              "        vertical-align: middle;\n",
              "    }\n",
              "\n",
              "    .dataframe tbody tr th {\n",
              "        vertical-align: top;\n",
              "    }\n",
              "\n",
              "    .dataframe thead th {\n",
              "        text-align: right;\n",
              "    }\n",
              "</style>\n",
              "<table border=\"1\" class=\"dataframe\">\n",
              "  <thead>\n",
              "    <tr style=\"text-align: right;\">\n",
              "      <th></th>\n",
              "      <th>0</th>\n",
              "      <th>1</th>\n",
              "      <th>2</th>\n",
              "      <th>3</th>\n",
              "      <th>4</th>\n",
              "    </tr>\n",
              "  </thead>\n",
              "  <tbody>\n",
              "    <tr>\n",
              "      <th>slug</th>\n",
              "      <td>bitcoin</td>\n",
              "      <td>bitcoin</td>\n",
              "      <td>bitcoin</td>\n",
              "      <td>bitcoin</td>\n",
              "      <td>bitcoin</td>\n",
              "    </tr>\n",
              "    <tr>\n",
              "      <th>symbol</th>\n",
              "      <td>BTC</td>\n",
              "      <td>BTC</td>\n",
              "      <td>BTC</td>\n",
              "      <td>BTC</td>\n",
              "      <td>BTC</td>\n",
              "    </tr>\n",
              "    <tr>\n",
              "      <th>name</th>\n",
              "      <td>Bitcoin</td>\n",
              "      <td>Bitcoin</td>\n",
              "      <td>Bitcoin</td>\n",
              "      <td>Bitcoin</td>\n",
              "      <td>Bitcoin</td>\n",
              "    </tr>\n",
              "    <tr>\n",
              "      <th>date</th>\n",
              "      <td>2013-04-28</td>\n",
              "      <td>2013-04-29</td>\n",
              "      <td>2013-04-30</td>\n",
              "      <td>2013-05-01</td>\n",
              "      <td>2013-05-02</td>\n",
              "    </tr>\n",
              "    <tr>\n",
              "      <th>ranknow</th>\n",
              "      <td>1</td>\n",
              "      <td>1</td>\n",
              "      <td>1</td>\n",
              "      <td>1</td>\n",
              "      <td>1</td>\n",
              "    </tr>\n",
              "    <tr>\n",
              "      <th>open</th>\n",
              "      <td>135.3</td>\n",
              "      <td>134.44</td>\n",
              "      <td>144</td>\n",
              "      <td>139</td>\n",
              "      <td>116.38</td>\n",
              "    </tr>\n",
              "    <tr>\n",
              "      <th>high</th>\n",
              "      <td>135.98</td>\n",
              "      <td>147.49</td>\n",
              "      <td>146.93</td>\n",
              "      <td>139.89</td>\n",
              "      <td>125.6</td>\n",
              "    </tr>\n",
              "    <tr>\n",
              "      <th>low</th>\n",
              "      <td>132.1</td>\n",
              "      <td>134</td>\n",
              "      <td>134.05</td>\n",
              "      <td>107.72</td>\n",
              "      <td>92.28</td>\n",
              "    </tr>\n",
              "    <tr>\n",
              "      <th>close</th>\n",
              "      <td>134.21</td>\n",
              "      <td>144.54</td>\n",
              "      <td>139</td>\n",
              "      <td>116.99</td>\n",
              "      <td>105.21</td>\n",
              "    </tr>\n",
              "    <tr>\n",
              "      <th>volume</th>\n",
              "      <td>0</td>\n",
              "      <td>0</td>\n",
              "      <td>0</td>\n",
              "      <td>0</td>\n",
              "      <td>0</td>\n",
              "    </tr>\n",
              "    <tr>\n",
              "      <th>market</th>\n",
              "      <td>1.48857e+09</td>\n",
              "      <td>1.60377e+09</td>\n",
              "      <td>1.54281e+09</td>\n",
              "      <td>1.29895e+09</td>\n",
              "      <td>1.16852e+09</td>\n",
              "    </tr>\n",
              "    <tr>\n",
              "      <th>close_ratio</th>\n",
              "      <td>0.5438</td>\n",
              "      <td>0.7813</td>\n",
              "      <td>0.3843</td>\n",
              "      <td>0.2882</td>\n",
              "      <td>0.3881</td>\n",
              "    </tr>\n",
              "    <tr>\n",
              "      <th>spread</th>\n",
              "      <td>3.88</td>\n",
              "      <td>13.49</td>\n",
              "      <td>12.88</td>\n",
              "      <td>32.17</td>\n",
              "      <td>33.32</td>\n",
              "    </tr>\n",
              "  </tbody>\n",
              "</table>\n",
              "</div>"
            ],
            "text/plain": [
              "                       0            1            2            3            4\n",
              "slug             bitcoin      bitcoin      bitcoin      bitcoin      bitcoin\n",
              "symbol               BTC          BTC          BTC          BTC          BTC\n",
              "name             Bitcoin      Bitcoin      Bitcoin      Bitcoin      Bitcoin\n",
              "date          2013-04-28   2013-04-29   2013-04-30   2013-05-01   2013-05-02\n",
              "ranknow                1            1            1            1            1\n",
              "open               135.3       134.44          144          139       116.38\n",
              "high              135.98       147.49       146.93       139.89        125.6\n",
              "low                132.1          134       134.05       107.72        92.28\n",
              "close             134.21       144.54          139       116.99       105.21\n",
              "volume                 0            0            0            0            0\n",
              "market       1.48857e+09  1.60377e+09  1.54281e+09  1.29895e+09  1.16852e+09\n",
              "close_ratio       0.5438       0.7813       0.3843       0.2882       0.3881\n",
              "spread              3.88        13.49        12.88        32.17        33.32"
            ]
          },
          "metadata": {
            "tags": []
          },
          "execution_count": 4
        }
      ]
    },
    {
      "cell_type": "code",
      "metadata": {
        "id": "9_4gvk6-UmO6",
        "colab_type": "code",
        "colab": {}
      },
      "source": [
        "df['date'] = pd.to_datetime(df['date'], format='%Y-%m-%d')"
      ],
      "execution_count": 5,
      "outputs": []
    },
    {
      "cell_type": "code",
      "metadata": {
        "id": "vxYVoySXRKlM",
        "colab_type": "code",
        "colab": {}
      },
      "source": [
        "def clean(text):\n",
        "    text = text.lower()\n",
        "    text = text.replace(\"ain't\", \"am not\")\n",
        "    text = text.replace(\"aren't\", \"are not\")\n",
        "    text = text.replace(\"can't\", \"cannot\")\n",
        "    text = text.replace(\"can't've\", \"cannot have\")\n",
        "    text = text.replace(\"'cause\", \"because\")\n",
        "    text = text.replace(\"could've\", \"could have\")\n",
        "    text = text.replace(\"couldn't\", \"could not\")\n",
        "    text = text.replace(\"couldn't've\", \"could not have\")\n",
        "    text = text.replace(\"should've\", \"should have\")\n",
        "    text = text.replace(\"should't\", \"should not\")\n",
        "    text = text.replace(\"should't've\", \"should not have\")\n",
        "    text = text.replace(\"would've\", \"would have\")\n",
        "    text = text.replace(\"would't\", \"would not\")\n",
        "    text = text.replace(\"would't've\", \"would not have\")\n",
        "    text = text.replace(\"didn't\", \"did not\")\n",
        "    text = text.replace(\"doesn't\", \"does not\")\n",
        "    text = text.replace(\"don't\", \"do not\")\n",
        "    text = text.replace(\"hadn't\", \"had not\")\n",
        "    text = text.replace(\"hadn't've\", \"had not have\")\n",
        "    text = text.replace(\"hasn't\", \"has not\")\n",
        "    text = text.replace(\"haven't\", \"have not\")\n",
        "    text = text.replace(\"haven't\", \"have not\")\n",
        "    text = text.replace(\"haven't\", \"have not\")\n",
        "    text = text.replace(\"haven't\", \"have not\")\n",
        "    text = text.replace(\"he'd\", \"he would\")\n",
        "    text = text.replace(\"haven't\", \"have not\")\n",
        "    text = text.replace(\"he'd've\", \"he would have\")\n",
        "    text = text.replace(\"'s\", \"\")\n",
        "    text = text.replace(r\"^[a-zA-Z ]\", \"\")\n",
        "    text = ''.join([i for i in text if not i.isdigit()])\n",
        "    return text\n",
        "\n",
        "positive_reviews = hotel_dataset[\"positive_review\"].values\n",
        "negative_reviews = hotel_dataset['negative_review'].values\n",
        "\n",
        "cleaned_positive_reviews = [clean(r) for r in positive_reviews] \n",
        "cleaned_negative_reviews = [clean(r) for r in negative_reviews] \n",
        "\n",
        "hotel_dataset['positive_review'] = cleaned_positive_reviews\n",
        "hotel_dataset['negative_review'] = cleaned_negative_reviews\n"
      ],
      "execution_count": null,
      "outputs": []
    },
    {
      "cell_type": "code",
      "metadata": {
        "id": "uL6CazziFoAF",
        "colab_type": "code",
        "colab": {
          "base_uri": "https://localhost:8080/",
          "height": 326
        },
        "outputId": "0fa2447c-e151-4624-b169-7c20d4ce962e"
      },
      "source": [
        "print(\"Latest crypto data\")\n",
        "latest_df = df[df['date'] == max(df['date'])]\n",
        "latest_df.head()"
      ],
      "execution_count": 6,
      "outputs": [
        {
          "output_type": "stream",
          "text": [
            "Latest crypto data\n"
          ],
          "name": "stdout"
        },
        {
          "output_type": "execute_result",
          "data": {
            "text/html": [
              "<div>\n",
              "<style scoped>\n",
              "    .dataframe tbody tr th:only-of-type {\n",
              "        vertical-align: middle;\n",
              "    }\n",
              "\n",
              "    .dataframe tbody tr th {\n",
              "        vertical-align: top;\n",
              "    }\n",
              "\n",
              "    .dataframe thead th {\n",
              "        text-align: right;\n",
              "    }\n",
              "</style>\n",
              "<table border=\"1\" class=\"dataframe\">\n",
              "  <thead>\n",
              "    <tr style=\"text-align: right;\">\n",
              "      <th></th>\n",
              "      <th>slug</th>\n",
              "      <th>symbol</th>\n",
              "      <th>name</th>\n",
              "      <th>date</th>\n",
              "      <th>ranknow</th>\n",
              "      <th>open</th>\n",
              "      <th>high</th>\n",
              "      <th>low</th>\n",
              "      <th>close</th>\n",
              "      <th>volume</th>\n",
              "      <th>market</th>\n",
              "      <th>close_ratio</th>\n",
              "      <th>spread</th>\n",
              "    </tr>\n",
              "  </thead>\n",
              "  <tbody>\n",
              "    <tr>\n",
              "      <th>2041</th>\n",
              "      <td>bitcoin</td>\n",
              "      <td>BTC</td>\n",
              "      <td>Bitcoin</td>\n",
              "      <td>2018-11-29</td>\n",
              "      <td>1.0</td>\n",
              "      <td>4269.000000</td>\n",
              "      <td>4413.020000</td>\n",
              "      <td>4145.770000</td>\n",
              "      <td>4278.850000</td>\n",
              "      <td>6.503348e+09</td>\n",
              "      <td>7.445102e+10</td>\n",
              "      <td>0.4980</td>\n",
              "      <td>267.25</td>\n",
              "    </tr>\n",
              "    <tr>\n",
              "      <th>3985</th>\n",
              "      <td>ripple</td>\n",
              "      <td>XRP</td>\n",
              "      <td>XRP</td>\n",
              "      <td>2018-11-29</td>\n",
              "      <td>2.0</td>\n",
              "      <td>0.391862</td>\n",
              "      <td>0.392465</td>\n",
              "      <td>0.373789</td>\n",
              "      <td>0.379562</td>\n",
              "      <td>6.299006e+08</td>\n",
              "      <td>1.530674e+10</td>\n",
              "      <td>0.3091</td>\n",
              "      <td>0.02</td>\n",
              "    </tr>\n",
              "    <tr>\n",
              "      <th>5196</th>\n",
              "      <td>ethereum</td>\n",
              "      <td>ETH</td>\n",
              "      <td>Ethereum</td>\n",
              "      <td>2018-11-29</td>\n",
              "      <td>3.0</td>\n",
              "      <td>122.720000</td>\n",
              "      <td>123.230000</td>\n",
              "      <td>115.300000</td>\n",
              "      <td>117.540000</td>\n",
              "      <td>2.196099e+09</td>\n",
              "      <td>1.216629e+10</td>\n",
              "      <td>0.2825</td>\n",
              "      <td>7.93</td>\n",
              "    </tr>\n",
              "    <tr>\n",
              "      <th>6774</th>\n",
              "      <td>stellar</td>\n",
              "      <td>XLM</td>\n",
              "      <td>Stellar</td>\n",
              "      <td>2018-11-29</td>\n",
              "      <td>4.0</td>\n",
              "      <td>0.161831</td>\n",
              "      <td>0.172107</td>\n",
              "      <td>0.155423</td>\n",
              "      <td>0.165080</td>\n",
              "      <td>8.886206e+07</td>\n",
              "      <td>3.162026e+09</td>\n",
              "      <td>0.5788</td>\n",
              "      <td>0.02</td>\n",
              "    </tr>\n",
              "    <tr>\n",
              "      <th>7269</th>\n",
              "      <td>bitcoin-cash</td>\n",
              "      <td>BCH</td>\n",
              "      <td>Bitcoin Cash</td>\n",
              "      <td>2018-11-29</td>\n",
              "      <td>5.0</td>\n",
              "      <td>190.100000</td>\n",
              "      <td>191.150000</td>\n",
              "      <td>176.830000</td>\n",
              "      <td>180.980000</td>\n",
              "      <td>8.916690e+07</td>\n",
              "      <td>3.164359e+09</td>\n",
              "      <td>0.2898</td>\n",
              "      <td>14.32</td>\n",
              "    </tr>\n",
              "  </tbody>\n",
              "</table>\n",
              "</div>"
            ],
            "text/plain": [
              "              slug symbol          name  ...        market  close_ratio  spread\n",
              "2041       bitcoin    BTC       Bitcoin  ...  7.445102e+10       0.4980  267.25\n",
              "3985        ripple    XRP           XRP  ...  1.530674e+10       0.3091    0.02\n",
              "5196      ethereum    ETH      Ethereum  ...  1.216629e+10       0.2825    7.93\n",
              "6774       stellar    XLM       Stellar  ...  3.162026e+09       0.5788    0.02\n",
              "7269  bitcoin-cash    BCH  Bitcoin Cash  ...  3.164359e+09       0.2898   14.32\n",
              "\n",
              "[5 rows x 13 columns]"
            ]
          },
          "metadata": {
            "tags": []
          },
          "execution_count": 6
        }
      ]
    },
    {
      "cell_type": "code",
      "metadata": {
        "id": "wFbUC78QFudU",
        "colab_type": "code",
        "colab": {
          "base_uri": "https://localhost:8080/",
          "height": 51
        },
        "outputId": "dd652640-0124-4111-f52c-40dcffdba16f"
      },
      "source": [
        "print(\"Number of cryptocurrencies listed\")\n",
        "latest_df['symbol'].nunique()"
      ],
      "execution_count": null,
      "outputs": [
        {
          "output_type": "stream",
          "text": [
            "Number of cryptocurrencies listed\n"
          ],
          "name": "stdout"
        },
        {
          "output_type": "execute_result",
          "data": {
            "text/plain": [
              "10"
            ]
          },
          "metadata": {
            "tags": []
          },
          "execution_count": 7
        }
      ]
    }
  ]
}